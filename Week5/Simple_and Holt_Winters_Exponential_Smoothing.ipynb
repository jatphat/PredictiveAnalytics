{
 "cells": [
  {
   "cell_type": "code",
   "execution_count": null,
   "metadata": {},
   "outputs": [],
   "source": []
  },
  {
   "cell_type": "markdown",
   "metadata": {},
   "source": [
    "# Simple Exponential Smoothing and Holt Winter's Exponential Smoothing\n",
    "\n",
    "Source:\n",
    "\n",
    "11 Classical Time Series Forecasting Methods in Python (Cheat Sheet)\n",
    "By Jason Brownlee \n",
    "\n",
    "https://machinelearningmastery.com/time-series-forecasting-methods-in-python-cheat-sheet/"
   ]
  },
  {
   "cell_type": "markdown",
   "metadata": {},
   "source": [
    "### Simple Exponential Smoothing\n",
    "\n",
    "The **Simple Exponential Smoothing (SES)** method models the next time step as an exponentially weighted linear function of observations at prior time steps.\n",
    "\n",
    "The method is suitable for **univariate** time series **without trend and seasonal components.**"
   ]
  },
  {
   "cell_type": "code",
   "execution_count": 1,
   "metadata": {},
   "outputs": [
    {
     "name": "stdout",
     "output_type": "stream",
     "text": [
      "[99.36499284]\n"
     ]
    }
   ],
   "source": [
    "# SES example\n",
    "from statsmodels.tsa.holtwinters import SimpleExpSmoothing\n",
    "from random import random\n",
    "\n",
    "# contrived dataset\n",
    "data = [x + random() for x in range(1, 100)]\n",
    "\n",
    "# fit model\n",
    "model = SimpleExpSmoothing(data)\n",
    "model_fit = model.fit()\n",
    "\n",
    "# make prediction\n",
    "yhat = model_fit.predict(len(data), len(data))\n",
    "print(yhat)"
   ]
  },
  {
   "cell_type": "code",
   "execution_count": null,
   "metadata": {},
   "outputs": [],
   "source": []
  },
  {
   "cell_type": "markdown",
   "metadata": {},
   "source": [
    "### Holt Winter's Exponential Smoothing\n",
    "\n",
    "The **Holt Winter’s Exponential Smoothing (HWES)** also called the **Triple Exponential Smoothing** method models the next time step as an exponentially weighted linear function of observations at prior time steps, **taking trends and seasonality into account.**\n",
    "\n",
    "The method is suitable for univariate time series with trend and/or seasonal components."
   ]
  },
  {
   "cell_type": "code",
   "execution_count": 5,
   "metadata": {},
   "outputs": [
    {
     "name": "stdout",
     "output_type": "stream",
     "text": [
      "99.26740683400514\n",
      "[98.10688898]\n"
     ]
    }
   ],
   "source": [
    "# HWES example\n",
    "from statsmodels.tsa.holtwinters import ExponentialSmoothing\n",
    "from random import random\n",
    "\n",
    "# contrived dataset\n",
    "data = [x + random() for x in range(1, 100)]\n",
    "\n",
    "# fit model\n",
    "model = ExponentialSmoothing(data)\n",
    "model_fit = model.fit()\n",
    "\n",
    "# make prediction\n",
    "yhat = model_fit.predict(len(data), len(data))\n",
    "print(yhat)"
   ]
  },
  {
   "cell_type": "code",
   "execution_count": null,
   "metadata": {},
   "outputs": [],
   "source": []
  },
  {
   "cell_type": "markdown",
   "metadata": {},
   "source": [
    "# Outlook:\n",
    "\n",
    "Hyperparameter tuning for Holt Winter's Exponential Smoothing methods to get the model with the best fit parameters:\n",
    "\n",
    "Hyperparameters that control the nature of the exponential performed for the series, trend, and seasonality, specifically:\n",
    "\n",
    "- **smoothing_level (alpha):** the smoothing coefficient for the level.\n",
    "- **smoothing_slope (beta):** the smoothing coefficient for the trend.\n",
    "- **smoothing_seasonal (gamma):** the smoothing coefficient for the seasonal component.\n",
    "- **damping_slope (phi):** the coefficient for the damped trend.\n",
    "\n",
    "Other hyperparameters:\n",
    "\n",
    "- **trend:** The type of trend component, as either “add” for additive or “mul” for multiplicative. Modeling the trend can be disabled by setting it to None.\n",
    "- **damped:** Whether or not the trend component should be damped, either True or False.\n",
    "- **seasonal:** The type of seasonal component, as either “add” for additive or “mul” for multiplicative. Modeling the seasonal component can be disabled by setting it to None.\n",
    "- **seasonal_periods:** The number of time steps in a seasonal period, e.g. 12 for 12 months in a yearly seasonal structure.\n",
    "- **use_boxcox:** Whether or not to perform a power transform of the series (True/False) or specify the lambda for the transform.\n",
    "\n",
    "Some Reading:\n",
    "\n",
    "How to Grid Search Triple Exponential Smoothing for Time Series Forecasting in Python\n",
    "https://machinelearningmastery.com/how-to-grid-search-triple-exponential-smoothing-for-time-series-forecasting-in-python/"
   ]
  },
  {
   "cell_type": "code",
   "execution_count": null,
   "metadata": {},
   "outputs": [],
   "source": []
  }
 ],
 "metadata": {
  "kernelspec": {
   "display_name": "venv_timeseries",
   "language": "python",
   "name": "python3"
  },
  "language_info": {
   "codemirror_mode": {
    "name": "ipython",
    "version": 3
   },
   "file_extension": ".py",
   "mimetype": "text/x-python",
   "name": "python",
   "nbconvert_exporter": "python",
   "pygments_lexer": "ipython3",
   "version": "3.9.6"
  }
 },
 "nbformat": 4,
 "nbformat_minor": 2
}
