{
 "cells": [
  {
   "cell_type": "markdown",
   "metadata": {},
   "source": [
    "<a href=\"https://colab.research.google.com/github/PacktPublishing/Machine-Learning-for-Time-Series-with-Python/blob/master/chapter7/KNN_with_dynamic_DTW.ipynb\" target=\"_parent\\\"><img src=\"https://colab.research.google.com/assets/colab-badge.svg\" alt=\"Open In Colab\"/></a>"
   ]
  },
  {
   "cell_type": "code",
   "execution_count": 14,
   "metadata": {
    "colab": {
     "base_uri": "https://localhost:8080/"
    },
    "id": "r1kjFHY6xlbo",
    "outputId": "4b3f00df-2b21-4b3f-809f-7df77ada4790"
   },
   "outputs": [
    {
     "name": "stdout",
     "output_type": "stream",
     "text": [
      "Defaulting to user installation because normal site-packages is not writeable\n",
      "Requirement already satisfied: statsmodels in /home/mjack6/.local/lib/python3.8/site-packages (0.12.0)\n",
      "Requirement already satisfied: numpy>=1.15 in /home/mjack6/.local/lib/python3.8/site-packages (from statsmodels) (1.24.4)\n",
      "Requirement already satisfied: scipy>=1.1 in /home/mjack6/.local/lib/python3.8/site-packages (from statsmodels) (1.10.1)\n",
      "Requirement already satisfied: pandas>=0.21 in /usr/local/lib64/python3.8/site-packages (from statsmodels) (2.0.3)\n",
      "Requirement already satisfied: patsy>=0.5 in /usr/local/lib/python3.8/site-packages (from statsmodels) (0.5.3)\n",
      "Requirement already satisfied: python-dateutil>=2.8.2 in /usr/local/lib/python3.8/site-packages (from pandas>=0.21->statsmodels) (2.8.2)\n",
      "Requirement already satisfied: pytz>=2020.1 in /home/mjack6/.local/lib/python3.8/site-packages (from pandas>=0.21->statsmodels) (2024.2)\n",
      "Requirement already satisfied: tzdata>=2022.1 in /usr/local/lib/python3.8/site-packages (from pandas>=0.21->statsmodels) (2022.1)\n",
      "Requirement already satisfied: six in /usr/local/lib/python3.8/site-packages (from patsy>=0.5->statsmodels) (1.15.0)\n",
      "\u001b[33mDEPRECATION: tsfresh 0.18.0 has a non-standard dependency specifier matrixprofile>=1.1.10<2.0.0. pip 24.1 will enforce this behaviour change. A possible replacement is to upgrade to a newer version of tsfresh or contact the author to suggest that they release a version with a conforming dependency specifiers. Discussion can be found at https://github.com/pypa/pip/issues/12063\u001b[0m\u001b[33m\n",
      "\u001b[0m\n",
      "\u001b[1m[\u001b[0m\u001b[34;49mnotice\u001b[0m\u001b[1;39;49m]\u001b[0m\u001b[39;49m A new release of pip is available: \u001b[0m\u001b[31;49m24.0\u001b[0m\u001b[39;49m -> \u001b[0m\u001b[32;49m25.0\u001b[0m\n",
      "\u001b[1m[\u001b[0m\u001b[34;49mnotice\u001b[0m\u001b[1;39;49m]\u001b[0m\u001b[39;49m To update, run: \u001b[0m\u001b[32;49mpython3.8 -m pip install --upgrade pip\u001b[0m\n",
      "Defaulting to user installation because normal site-packages is not writeable\n",
      "Requirement already satisfied: tsfresh in /home/mjack6/.local/lib/python3.8/site-packages (0.18.0)\n",
      "Requirement already satisfied: pydeseq2 in /home/mjack6/.local/lib/python3.8/site-packages (0.4.4)\n",
      "Requirement already satisfied: requests>=2.9.1 in /home/mjack6/.local/lib/python3.8/site-packages (from tsfresh) (2.32.3)\n",
      "Requirement already satisfied: numpy>=1.15.1 in /home/mjack6/.local/lib/python3.8/site-packages (from tsfresh) (1.24.4)\n",
      "Requirement already satisfied: pandas>=0.25.0 in /usr/local/lib64/python3.8/site-packages (from tsfresh) (2.0.3)\n",
      "Requirement already satisfied: scipy>=1.2.0 in /home/mjack6/.local/lib/python3.8/site-packages (from tsfresh) (1.10.1)\n",
      "Requirement already satisfied: statsmodels>=0.9.0 in /home/mjack6/.local/lib/python3.8/site-packages (from tsfresh) (0.12.0)\n",
      "Requirement already satisfied: patsy>=0.4.1 in /usr/local/lib/python3.8/site-packages (from tsfresh) (0.5.3)\n",
      "Requirement already satisfied: scikit-learn>=0.22.0 in /usr/local/lib64/python3.8/site-packages (from tsfresh) (1.3.1)\n",
      "Requirement already satisfied: tqdm>=4.10.0 in /home/mjack6/.local/lib/python3.8/site-packages (from tsfresh) (4.67.1)\n",
      "Requirement already satisfied: dask>=2.9.0 in /home/mjack6/.local/lib/python3.8/site-packages (from dask[dataframe]>=2.9.0->tsfresh) (2023.5.0)\n",
      "Requirement already satisfied: distributed>=2.11.0 in /home/mjack6/.local/lib/python3.8/site-packages (from tsfresh) (2023.5.0)\n",
      "Requirement already satisfied: matrixprofile>=1.1.10<2.0.0 in /home/mjack6/.local/lib/python3.8/site-packages (from tsfresh) (1.1.10)\n",
      "Requirement already satisfied: stumpy>=1.7.2 in /home/mjack6/.local/lib/python3.8/site-packages (from tsfresh) (1.13.0)\n",
      "Requirement already satisfied: anndata>=0.8.0 in /home/mjack6/.local/lib/python3.8/site-packages (from pydeseq2) (0.9.2)\n",
      "Requirement already satisfied: matplotlib>=3.6.2 in /home/mjack6/.local/lib/python3.8/site-packages (from pydeseq2) (3.7.5)\n",
      "Requirement already satisfied: h5py>=3 in /usr/local/lib64/python3.8/site-packages (from anndata>=0.8.0->pydeseq2) (3.6.0)\n",
      "Requirement already satisfied: natsort in /home/mjack6/.local/lib/python3.8/site-packages (from anndata>=0.8.0->pydeseq2) (8.4.0)\n",
      "Requirement already satisfied: packaging>=20 in /usr/local/lib/python3.8/site-packages (from anndata>=0.8.0->pydeseq2) (23.2)\n",
      "Requirement already satisfied: click>=8.0 in /usr/local/lib/python3.8/site-packages (from dask>=2.9.0->dask[dataframe]>=2.9.0->tsfresh) (8.0.0)\n",
      "Requirement already satisfied: cloudpickle>=1.5.0 in /usr/local/lib/python3.8/site-packages (from dask>=2.9.0->dask[dataframe]>=2.9.0->tsfresh) (3.0.0)\n",
      "Requirement already satisfied: fsspec>=2021.09.0 in /home/mjack6/.local/lib/python3.8/site-packages (from dask>=2.9.0->dask[dataframe]>=2.9.0->tsfresh) (2024.9.0)\n",
      "Requirement already satisfied: partd>=1.2.0 in /home/mjack6/.local/lib/python3.8/site-packages (from dask>=2.9.0->dask[dataframe]>=2.9.0->tsfresh) (1.4.1)\n",
      "Requirement already satisfied: pyyaml>=5.3.1 in /usr/local/lib64/python3.8/site-packages (from dask>=2.9.0->dask[dataframe]>=2.9.0->tsfresh) (5.4.1)\n",
      "Requirement already satisfied: toolz>=0.10.0 in /usr/local/lib/python3.8/site-packages (from dask>=2.9.0->dask[dataframe]>=2.9.0->tsfresh) (0.11.1)\n",
      "Requirement already satisfied: importlib-metadata>=4.13.0 in /home/mjack6/.local/lib/python3.8/site-packages (from dask>=2.9.0->dask[dataframe]>=2.9.0->tsfresh) (8.5.0)\n",
      "Requirement already satisfied: jinja2>=2.10.3 in /usr/local/lib/python3.8/site-packages (from distributed>=2.11.0->tsfresh) (3.1.3)\n",
      "Requirement already satisfied: locket>=1.0.0 in /home/mjack6/.local/lib/python3.8/site-packages (from distributed>=2.11.0->tsfresh) (1.0.0)\n",
      "Requirement already satisfied: msgpack>=1.0.0 in /usr/local/lib64/python3.8/site-packages (from distributed>=2.11.0->tsfresh) (1.0.4)\n",
      "Requirement already satisfied: psutil>=5.7.0 in /usr/local/lib64/python3.8/site-packages (from distributed>=2.11.0->tsfresh) (5.9.4)\n",
      "Requirement already satisfied: sortedcontainers>=2.0.5 in /home/mjack6/.local/lib/python3.8/site-packages (from distributed>=2.11.0->tsfresh) (2.4.0)\n",
      "Requirement already satisfied: tblib>=1.6.0 in /home/mjack6/.local/lib/python3.8/site-packages (from distributed>=2.11.0->tsfresh) (3.0.0)\n",
      "Requirement already satisfied: tornado>=6.0.3 in /usr/local/lib64/python3.8/site-packages (from distributed>=2.11.0->tsfresh) (6.4)\n",
      "Requirement already satisfied: urllib3>=1.24.3 in /usr/local/lib/python3.8/site-packages (from distributed>=2.11.0->tsfresh) (1.26.2)\n",
      "Requirement already satisfied: zict>=2.2.0 in /home/mjack6/.local/lib/python3.8/site-packages (from distributed>=2.11.0->tsfresh) (3.0.0)\n",
      "Requirement already satisfied: contourpy>=1.0.1 in /usr/local/lib64/python3.8/site-packages (from matplotlib>=3.6.2->pydeseq2) (1.1.1)\n",
      "Requirement already satisfied: cycler>=0.10 in /usr/local/lib/python3.8/site-packages (from matplotlib>=3.6.2->pydeseq2) (0.10.0)\n",
      "Requirement already satisfied: fonttools>=4.22.0 in /home/mjack6/.local/lib/python3.8/site-packages (from matplotlib>=3.6.2->pydeseq2) (4.55.7)\n",
      "Requirement already satisfied: kiwisolver>=1.0.1 in /usr/local/lib64/python3.8/site-packages (from matplotlib>=3.6.2->pydeseq2) (1.3.1)\n",
      "Requirement already satisfied: pillow>=6.2.0 in /usr/local/lib64/python3.8/site-packages (from matplotlib>=3.6.2->pydeseq2) (8.1.0)\n",
      "Requirement already satisfied: pyparsing>=2.3.1 in /usr/local/lib/python3.8/site-packages (from matplotlib>=3.6.2->pydeseq2) (2.4.7)\n",
      "Requirement already satisfied: python-dateutil>=2.7 in /usr/local/lib/python3.8/site-packages (from matplotlib>=3.6.2->pydeseq2) (2.8.2)\n",
      "Requirement already satisfied: importlib-resources>=3.2.0 in /usr/local/lib/python3.8/site-packages (from matplotlib>=3.6.2->pydeseq2) (6.1.1)\n",
      "Requirement already satisfied: protobuf==3.11.2 in /home/mjack6/.local/lib/python3.8/site-packages (from matrixprofile>=1.1.10<2.0.0->tsfresh) (3.11.2)\n",
      "Requirement already satisfied: six>=1.9 in /usr/local/lib/python3.8/site-packages (from protobuf==3.11.2->matrixprofile>=1.1.10<2.0.0->tsfresh) (1.15.0)\n",
      "Requirement already satisfied: setuptools in /usr/local/lib/python3.8/site-packages (from protobuf==3.11.2->matrixprofile>=1.1.10<2.0.0->tsfresh) (51.1.2)\n",
      "Requirement already satisfied: pytz>=2020.1 in /home/mjack6/.local/lib/python3.8/site-packages (from pandas>=0.25.0->tsfresh) (2024.2)\n",
      "Requirement already satisfied: tzdata>=2022.1 in /usr/local/lib/python3.8/site-packages (from pandas>=0.25.0->tsfresh) (2022.1)\n",
      "Requirement already satisfied: charset-normalizer<4,>=2 in /usr/local/lib/python3.8/site-packages (from requests>=2.9.1->tsfresh) (2.0.12)\n",
      "Requirement already satisfied: idna<4,>=2.5 in /usr/local/lib/python3.8/site-packages (from requests>=2.9.1->tsfresh) (2.10)\n",
      "Requirement already satisfied: certifi>=2017.4.17 in /usr/local/lib/python3.8/site-packages (from requests>=2.9.1->tsfresh) (2020.12.5)\n",
      "Requirement already satisfied: joblib>=1.1.1 in /usr/local/lib/python3.8/site-packages (from scikit-learn>=0.22.0->tsfresh) (1.3.2)\n",
      "Requirement already satisfied: threadpoolctl>=2.0.0 in /usr/local/lib/python3.8/site-packages (from scikit-learn>=0.22.0->tsfresh) (3.2.0)\n",
      "Requirement already satisfied: numba>=0.57.1 in /usr/local/lib64/python3.8/site-packages (from stumpy>=1.7.2->tsfresh) (0.58.1)\n",
      "Requirement already satisfied: zipp>=3.20 in /home/mjack6/.local/lib/python3.8/site-packages (from importlib-metadata>=4.13.0->dask>=2.9.0->dask[dataframe]>=2.9.0->tsfresh) (3.20.2)\n",
      "Requirement already satisfied: MarkupSafe>=2.0 in /usr/local/lib64/python3.8/site-packages (from jinja2>=2.10.3->distributed>=2.11.0->tsfresh) (2.1.5)\n",
      "Requirement already satisfied: llvmlite<0.42,>=0.41.0dev0 in /usr/local/lib64/python3.8/site-packages (from numba>=0.57.1->stumpy>=1.7.2->tsfresh) (0.41.1)\n",
      "\u001b[33mDEPRECATION: tsfresh 0.18.0 has a non-standard dependency specifier matrixprofile>=1.1.10<2.0.0. pip 24.1 will enforce this behaviour change. A possible replacement is to upgrade to a newer version of tsfresh or contact the author to suggest that they release a version with a conforming dependency specifiers. Discussion can be found at https://github.com/pypa/pip/issues/12063\u001b[0m\u001b[33m\n",
      "\u001b[0m\n",
      "\u001b[1m[\u001b[0m\u001b[34;49mnotice\u001b[0m\u001b[1;39;49m]\u001b[0m\u001b[39;49m A new release of pip is available: \u001b[0m\u001b[31;49m24.0\u001b[0m\u001b[39;49m -> \u001b[0m\u001b[32;49m25.0\u001b[0m\n",
      "\u001b[1m[\u001b[0m\u001b[34;49mnotice\u001b[0m\u001b[1;39;49m]\u001b[0m\u001b[39;49m To update, run: \u001b[0m\u001b[32;49mpython3.8 -m pip install --upgrade pip\u001b[0m\n"
     ]
    }
   ],
   "source": [
    "# !pip install tsfresh \"statsmodels<=0.12\"\n",
    "# !pip uninstall statsmodels\n",
    "!pip install statsmodels\n",
    "!pip install tsfresh pydeseq2"
   ]
  },
  {
   "cell_type": "code",
   "execution_count": 15,
   "metadata": {},
   "outputs": [
    {
     "name": "stdout",
     "output_type": "stream",
     "text": [
      "statsmodels: 0.12.0\n",
      "pydeseq2: 0.4.4\n"
     ]
    }
   ],
   "source": [
    "import statsmodels\n",
    "print(\"statsmodels:\", statsmodels.__version__)\n",
    "\n",
    "import pydeseq2\n",
    "print(\"pydeseq2:\", pydeseq2.__version__)"
   ]
  },
  {
   "cell_type": "code",
   "execution_count": 16,
   "metadata": {
    "colab": {
     "base_uri": "https://localhost:8080/"
    },
    "id": "Pg0UkW57-VlF",
    "outputId": "8275dc45-501c-40cd-ec9e-19d7d42935ad"
   },
   "outputs": [
    {
     "name": "stdout",
     "output_type": "stream",
     "text": [
      "Defaulting to user installation because normal site-packages is not writeable\n",
      "Requirement already satisfied: tslearn in /home/mjack6/.local/lib/python3.8/site-packages (0.6.3)\n",
      "Requirement already satisfied: numpy in /home/mjack6/.local/lib/python3.8/site-packages (from tslearn) (1.24.4)\n",
      "Requirement already satisfied: scipy in /home/mjack6/.local/lib/python3.8/site-packages (from tslearn) (1.10.1)\n",
      "Requirement already satisfied: scikit-learn in /usr/local/lib64/python3.8/site-packages (from tslearn) (1.3.1)\n",
      "Requirement already satisfied: numba in /usr/local/lib64/python3.8/site-packages (from tslearn) (0.58.1)\n",
      "Requirement already satisfied: joblib in /usr/local/lib/python3.8/site-packages (from tslearn) (1.3.2)\n",
      "Requirement already satisfied: llvmlite<0.42,>=0.41.0dev0 in /usr/local/lib64/python3.8/site-packages (from numba->tslearn) (0.41.1)\n",
      "Requirement already satisfied: importlib-metadata in /home/mjack6/.local/lib/python3.8/site-packages (from numba->tslearn) (8.5.0)\n",
      "Requirement already satisfied: threadpoolctl>=2.0.0 in /usr/local/lib/python3.8/site-packages (from scikit-learn->tslearn) (3.2.0)\n",
      "Requirement already satisfied: zipp>=3.20 in /home/mjack6/.local/lib/python3.8/site-packages (from importlib-metadata->numba->tslearn) (3.20.2)\n",
      "\u001b[33mDEPRECATION: tsfresh 0.18.0 has a non-standard dependency specifier matrixprofile>=1.1.10<2.0.0. pip 24.1 will enforce this behaviour change. A possible replacement is to upgrade to a newer version of tsfresh or contact the author to suggest that they release a version with a conforming dependency specifiers. Discussion can be found at https://github.com/pypa/pip/issues/12063\u001b[0m\u001b[33m\n",
      "\u001b[0m\n",
      "\u001b[1m[\u001b[0m\u001b[34;49mnotice\u001b[0m\u001b[1;39;49m]\u001b[0m\u001b[39;49m A new release of pip is available: \u001b[0m\u001b[31;49m24.0\u001b[0m\u001b[39;49m -> \u001b[0m\u001b[32;49m25.0\u001b[0m\n",
      "\u001b[1m[\u001b[0m\u001b[34;49mnotice\u001b[0m\u001b[1;39;49m]\u001b[0m\u001b[39;49m To update, run: \u001b[0m\u001b[32;49mpython3.8 -m pip install --upgrade pip\u001b[0m\n"
     ]
    }
   ],
   "source": [
    "!pip install tslearn"
   ]
  },
  {
   "cell_type": "markdown",
   "metadata": {},
   "source": [
    "# Forecasting with KNN\n",
    "\n",
    "Source:\n",
    "\n",
    "Ben Auffarth, Machine Learning for Time-Series with Python: Forecast, predict, and detect anomalies with state-of-the-art machine learning methods\n",
    "https://github.com/PacktPublishing/Machine-Learning-for-Time-Series-with-Python/tree/main"
   ]
  },
  {
   "cell_type": "code",
   "execution_count": 17,
   "metadata": {
    "id": "5VtsgQxuzMUt"
   },
   "outputs": [],
   "source": [
    "import pandas as pd\n",
    "import matplotlib.pyplot as plt\n",
    "\n",
    "plt.style.use(\"seaborn-v0_8-whitegrid\")\n",
    "plt.rcParams[\"font.family\"] = \"Times New Roman\"\n",
    "plt.rcParams[\"font.size\"] = \"17\""
   ]
  },
  {
   "cell_type": "code",
   "execution_count": 18,
   "metadata": {
    "colab": {
     "base_uri": "https://localhost:8080/"
    },
    "id": "iPQPBG849jB2",
    "outputId": "13f96036-b472-4445-d0ca-75d02a48016a"
   },
   "outputs": [
    {
     "ename": "ImportError",
     "evalue": "cannot import name 'Int64Index' from 'pandas' (/usr/local/lib64/python3.8/site-packages/pandas/__init__.py)",
     "output_type": "error",
     "traceback": [
      "\u001b[0;31m---------------------------------------------------------------------------\u001b[0m",
      "\u001b[0;31mImportError\u001b[0m                               Traceback (most recent call last)",
      "Cell \u001b[0;32mIn[18], line 1\u001b[0m\n\u001b[0;32m----> 1\u001b[0m \u001b[38;5;28;01mfrom\u001b[39;00m \u001b[38;5;21;01mtsfresh\u001b[39;00m\u001b[38;5;21;01m.\u001b[39;00m\u001b[38;5;21;01mexamples\u001b[39;00m \u001b[38;5;28;01mimport\u001b[39;00m load_robot_execution_failures\n\u001b[1;32m      2\u001b[0m \u001b[38;5;28;01mfrom\u001b[39;00m \u001b[38;5;21;01mtsfresh\u001b[39;00m\u001b[38;5;21;01m.\u001b[39;00m\u001b[38;5;21;01mexamples\u001b[39;00m\u001b[38;5;21;01m.\u001b[39;00m\u001b[38;5;21;01mrobot_execution_failures\u001b[39;00m \u001b[38;5;28;01mimport\u001b[39;00m download_robot_execution_failures\n\u001b[1;32m      4\u001b[0m download_robot_execution_failures()\n",
      "File \u001b[0;32m~/.local/lib/python3.8/site-packages/tsfresh/__init__.py:28\u001b[0m\n\u001b[1;32m     23\u001b[0m \u001b[38;5;28;01mfrom\u001b[39;00m \u001b[38;5;21;01mlogging\u001b[39;00m \u001b[38;5;28;01mimport\u001b[39;00m NullHandler\n\u001b[1;32m     25\u001b[0m logging\u001b[38;5;241m.\u001b[39mgetLogger(\u001b[38;5;18m__name__\u001b[39m)\u001b[38;5;241m.\u001b[39maddHandler(NullHandler())\n\u001b[0;32m---> 28\u001b[0m \u001b[38;5;28;01mfrom\u001b[39;00m \u001b[38;5;21;01mtsfresh\u001b[39;00m\u001b[38;5;21;01m.\u001b[39;00m\u001b[38;5;21;01mconvenience\u001b[39;00m\u001b[38;5;21;01m.\u001b[39;00m\u001b[38;5;21;01mrelevant_extraction\u001b[39;00m \u001b[38;5;28;01mimport\u001b[39;00m extract_relevant_features  \u001b[38;5;66;03m# noqa: E402\u001b[39;00m\n\u001b[1;32m     29\u001b[0m \u001b[38;5;28;01mfrom\u001b[39;00m \u001b[38;5;21;01mtsfresh\u001b[39;00m\u001b[38;5;21;01m.\u001b[39;00m\u001b[38;5;21;01mfeature_extraction\u001b[39;00m \u001b[38;5;28;01mimport\u001b[39;00m extract_features  \u001b[38;5;66;03m# noqa: E402\u001b[39;00m\n\u001b[1;32m     30\u001b[0m \u001b[38;5;28;01mfrom\u001b[39;00m \u001b[38;5;21;01mtsfresh\u001b[39;00m\u001b[38;5;21;01m.\u001b[39;00m\u001b[38;5;21;01mfeature_selection\u001b[39;00m \u001b[38;5;28;01mimport\u001b[39;00m select_features  \u001b[38;5;66;03m# noqa: E402\u001b[39;00m\n",
      "File \u001b[0;32m~/.local/lib/python3.8/site-packages/tsfresh/convenience/relevant_extraction.py:6\u001b[0m\n\u001b[1;32m      1\u001b[0m \u001b[38;5;66;03m# -*- coding: utf-8 -*-\u001b[39;00m\n\u001b[1;32m      2\u001b[0m \u001b[38;5;66;03m# This file as well as the whole tsfresh package are licenced under the MIT licence (see the LICENCE.txt)\u001b[39;00m\n\u001b[1;32m      3\u001b[0m \u001b[38;5;66;03m# Maximilian Christ (maximilianchrist.com), Blue Yonder Gmbh, 2016\u001b[39;00m\n\u001b[1;32m      5\u001b[0m \u001b[38;5;28;01mimport\u001b[39;00m \u001b[38;5;21;01mpandas\u001b[39;00m \u001b[38;5;28;01mas\u001b[39;00m \u001b[38;5;21;01mpd\u001b[39;00m\n\u001b[0;32m----> 6\u001b[0m \u001b[38;5;28;01mfrom\u001b[39;00m \u001b[38;5;21;01mtsfresh\u001b[39;00m\u001b[38;5;21;01m.\u001b[39;00m\u001b[38;5;21;01mfeature_extraction\u001b[39;00m \u001b[38;5;28;01mimport\u001b[39;00m extract_features\n\u001b[1;32m      7\u001b[0m \u001b[38;5;28;01mfrom\u001b[39;00m \u001b[38;5;21;01mtsfresh\u001b[39;00m \u001b[38;5;28;01mimport\u001b[39;00m defaults\n\u001b[1;32m      8\u001b[0m \u001b[38;5;28;01mfrom\u001b[39;00m \u001b[38;5;21;01mtsfresh\u001b[39;00m\u001b[38;5;21;01m.\u001b[39;00m\u001b[38;5;21;01mfeature_selection\u001b[39;00m \u001b[38;5;28;01mimport\u001b[39;00m select_features\n",
      "File \u001b[0;32m~/.local/lib/python3.8/site-packages/tsfresh/feature_extraction/__init__.py:5\u001b[0m\n\u001b[1;32m      1\u001b[0m \u001b[38;5;124;03m\"\"\"\u001b[39;00m\n\u001b[1;32m      2\u001b[0m \u001b[38;5;124;03mThe :mod:`tsfresh.feature_extraction` module contains methods to extract the features from the time series\u001b[39;00m\n\u001b[1;32m      3\u001b[0m \u001b[38;5;124;03m\"\"\"\u001b[39;00m\n\u001b[0;32m----> 5\u001b[0m \u001b[38;5;28;01mfrom\u001b[39;00m \u001b[38;5;21;01mtsfresh\u001b[39;00m\u001b[38;5;21;01m.\u001b[39;00m\u001b[38;5;21;01mfeature_extraction\u001b[39;00m\u001b[38;5;21;01m.\u001b[39;00m\u001b[38;5;21;01mextraction\u001b[39;00m \u001b[38;5;28;01mimport\u001b[39;00m extract_features\n\u001b[1;32m      6\u001b[0m \u001b[38;5;28;01mfrom\u001b[39;00m \u001b[38;5;21;01mtsfresh\u001b[39;00m\u001b[38;5;21;01m.\u001b[39;00m\u001b[38;5;21;01mfeature_extraction\u001b[39;00m\u001b[38;5;21;01m.\u001b[39;00m\u001b[38;5;21;01msettings\u001b[39;00m \u001b[38;5;28;01mimport\u001b[39;00m ComprehensiveFCParameters, MinimalFCParameters, \\\n\u001b[1;32m      7\u001b[0m     EfficientFCParameters\n",
      "File \u001b[0;32m~/.local/lib/python3.8/site-packages/tsfresh/feature_extraction/extraction.py:15\u001b[0m\n\u001b[1;32m     12\u001b[0m \u001b[38;5;28;01mimport\u001b[39;00m \u001b[38;5;21;01mpandas\u001b[39;00m \u001b[38;5;28;01mas\u001b[39;00m \u001b[38;5;21;01mpd\u001b[39;00m\n\u001b[1;32m     14\u001b[0m \u001b[38;5;28;01mfrom\u001b[39;00m \u001b[38;5;21;01mtsfresh\u001b[39;00m \u001b[38;5;28;01mimport\u001b[39;00m defaults\n\u001b[0;32m---> 15\u001b[0m \u001b[38;5;28;01mfrom\u001b[39;00m \u001b[38;5;21;01mtsfresh\u001b[39;00m\u001b[38;5;21;01m.\u001b[39;00m\u001b[38;5;21;01mfeature_extraction\u001b[39;00m \u001b[38;5;28;01mimport\u001b[39;00m feature_calculators\n\u001b[1;32m     16\u001b[0m \u001b[38;5;28;01mfrom\u001b[39;00m \u001b[38;5;21;01mtsfresh\u001b[39;00m\u001b[38;5;21;01m.\u001b[39;00m\u001b[38;5;21;01mfeature_extraction\u001b[39;00m\u001b[38;5;21;01m.\u001b[39;00m\u001b[38;5;21;01mdata\u001b[39;00m \u001b[38;5;28;01mimport\u001b[39;00m to_tsdata\n\u001b[1;32m     17\u001b[0m \u001b[38;5;28;01mfrom\u001b[39;00m \u001b[38;5;21;01mtsfresh\u001b[39;00m\u001b[38;5;21;01m.\u001b[39;00m\u001b[38;5;21;01mfeature_extraction\u001b[39;00m\u001b[38;5;21;01m.\u001b[39;00m\u001b[38;5;21;01msettings\u001b[39;00m \u001b[38;5;28;01mimport\u001b[39;00m ComprehensiveFCParameters\n",
      "File \u001b[0;32m~/.local/lib/python3.8/site-packages/tsfresh/feature_extraction/feature_calculators.py:41\u001b[0m\n\u001b[1;32m     37\u001b[0m \u001b[38;5;28;01mwith\u001b[39;00m warnings\u001b[38;5;241m.\u001b[39mcatch_warnings():\n\u001b[1;32m     38\u001b[0m     \u001b[38;5;66;03m# Ignore warnings of the patsy package\u001b[39;00m\n\u001b[1;32m     39\u001b[0m     warnings\u001b[38;5;241m.\u001b[39msimplefilter(\u001b[38;5;124m\"\u001b[39m\u001b[38;5;124mignore\u001b[39m\u001b[38;5;124m\"\u001b[39m, \u001b[38;5;167;01mDeprecationWarning\u001b[39;00m)\n\u001b[0;32m---> 41\u001b[0m     \u001b[38;5;28;01mfrom\u001b[39;00m \u001b[38;5;21;01mstatsmodels\u001b[39;00m\u001b[38;5;21;01m.\u001b[39;00m\u001b[38;5;21;01mtsa\u001b[39;00m\u001b[38;5;21;01m.\u001b[39;00m\u001b[38;5;21;01mar_model\u001b[39;00m \u001b[38;5;28;01mimport\u001b[39;00m AR\n\u001b[1;32m     42\u001b[0m \u001b[38;5;28;01mfrom\u001b[39;00m \u001b[38;5;21;01mstatsmodels\u001b[39;00m\u001b[38;5;21;01m.\u001b[39;00m\u001b[38;5;21;01mtsa\u001b[39;00m\u001b[38;5;21;01m.\u001b[39;00m\u001b[38;5;21;01mstattools\u001b[39;00m \u001b[38;5;28;01mimport\u001b[39;00m acf, adfuller, pacf\n\u001b[1;32m     44\u001b[0m \u001b[38;5;66;03m# todo: make sure '_' works in parameter names in all cases, add a warning if not\u001b[39;00m\n",
      "File \u001b[0;32m~/.local/lib/python3.8/site-packages/statsmodels/tsa/ar_model.py:30\u001b[0m\n\u001b[1;32m     23\u001b[0m \u001b[38;5;28;01mfrom\u001b[39;00m \u001b[38;5;21;01mstatsmodels\u001b[39;00m\u001b[38;5;21;01m.\u001b[39;00m\u001b[38;5;21;01mtools\u001b[39;00m\u001b[38;5;21;01m.\u001b[39;00m\u001b[38;5;21;01mvalidation\u001b[39;00m \u001b[38;5;28;01mimport\u001b[39;00m (\n\u001b[1;32m     24\u001b[0m     array_like,\n\u001b[1;32m     25\u001b[0m     bool_like,\n\u001b[1;32m     26\u001b[0m     int_like,\n\u001b[1;32m     27\u001b[0m     string_like,\n\u001b[1;32m     28\u001b[0m )\n\u001b[1;32m     29\u001b[0m \u001b[38;5;28;01mfrom\u001b[39;00m \u001b[38;5;21;01mstatsmodels\u001b[39;00m\u001b[38;5;21;01m.\u001b[39;00m\u001b[38;5;21;01mtsa\u001b[39;00m\u001b[38;5;21;01m.\u001b[39;00m\u001b[38;5;21;01marima_process\u001b[39;00m \u001b[38;5;28;01mimport\u001b[39;00m arma2ma\n\u001b[0;32m---> 30\u001b[0m \u001b[38;5;28;01mfrom\u001b[39;00m \u001b[38;5;21;01mstatsmodels\u001b[39;00m\u001b[38;5;21;01m.\u001b[39;00m\u001b[38;5;21;01mtsa\u001b[39;00m\u001b[38;5;21;01m.\u001b[39;00m\u001b[38;5;21;01mbase\u001b[39;00m \u001b[38;5;28;01mimport\u001b[39;00m tsa_model\n\u001b[1;32m     31\u001b[0m \u001b[38;5;28;01mfrom\u001b[39;00m \u001b[38;5;21;01mstatsmodels\u001b[39;00m\u001b[38;5;21;01m.\u001b[39;00m\u001b[38;5;21;01mtsa\u001b[39;00m\u001b[38;5;21;01m.\u001b[39;00m\u001b[38;5;21;01mdeterministic\u001b[39;00m \u001b[38;5;28;01mimport\u001b[39;00m (\n\u001b[1;32m     32\u001b[0m     DeterministicProcess,\n\u001b[1;32m     33\u001b[0m     Seasonality,\n\u001b[1;32m     34\u001b[0m     TimeTrend,\n\u001b[1;32m     35\u001b[0m )\n\u001b[1;32m     36\u001b[0m \u001b[38;5;28;01mfrom\u001b[39;00m \u001b[38;5;21;01mstatsmodels\u001b[39;00m\u001b[38;5;21;01m.\u001b[39;00m\u001b[38;5;21;01mtsa\u001b[39;00m\u001b[38;5;21;01m.\u001b[39;00m\u001b[38;5;21;01mkalmanf\u001b[39;00m\u001b[38;5;21;01m.\u001b[39;00m\u001b[38;5;21;01mkalmanfilter\u001b[39;00m \u001b[38;5;28;01mimport\u001b[39;00m KalmanFilter\n",
      "File \u001b[0;32m~/.local/lib/python3.8/site-packages/statsmodels/tsa/base/tsa_model.py:7\u001b[0m\n\u001b[1;32m      5\u001b[0m \u001b[38;5;28;01mimport\u001b[39;00m \u001b[38;5;21;01mwarnings\u001b[39;00m\n\u001b[1;32m      6\u001b[0m \u001b[38;5;28;01mimport\u001b[39;00m \u001b[38;5;21;01mnumpy\u001b[39;00m \u001b[38;5;28;01mas\u001b[39;00m \u001b[38;5;21;01mnp\u001b[39;00m\n\u001b[0;32m----> 7\u001b[0m \u001b[38;5;28;01mfrom\u001b[39;00m \u001b[38;5;21;01mpandas\u001b[39;00m \u001b[38;5;28;01mimport\u001b[39;00m (to_datetime, Int64Index, DatetimeIndex, Period,\n\u001b[1;32m      8\u001b[0m                     PeriodIndex, RangeIndex, Timestamp, Series, Index,\n\u001b[1;32m      9\u001b[0m                     Float64Index, date_range, period_range)\n\u001b[1;32m     10\u001b[0m \u001b[38;5;28;01mfrom\u001b[39;00m \u001b[38;5;21;01mpandas\u001b[39;00m\u001b[38;5;21;01m.\u001b[39;00m\u001b[38;5;21;01mtseries\u001b[39;00m\u001b[38;5;21;01m.\u001b[39;00m\u001b[38;5;21;01mfrequencies\u001b[39;00m \u001b[38;5;28;01mimport\u001b[39;00m to_offset\n\u001b[1;32m     12\u001b[0m \u001b[38;5;28;01mfrom\u001b[39;00m \u001b[38;5;21;01mstatsmodels\u001b[39;00m\u001b[38;5;21;01m.\u001b[39;00m\u001b[38;5;21;01mbase\u001b[39;00m\u001b[38;5;21;01m.\u001b[39;00m\u001b[38;5;21;01mdata\u001b[39;00m \u001b[38;5;28;01mimport\u001b[39;00m PandasData\n",
      "\u001b[0;31mImportError\u001b[0m: cannot import name 'Int64Index' from 'pandas' (/usr/local/lib64/python3.8/site-packages/pandas/__init__.py)"
     ]
    }
   ],
   "source": [
    "from tsfresh.examples import load_robot_execution_failures\n",
    "from tsfresh.examples.robot_execution_failures import download_robot_execution_failures\n",
    "\n",
    "download_robot_execution_failures()\n",
    "df_ts, y = load_robot_execution_failures()"
   ]
  },
  {
   "cell_type": "code",
   "execution_count": null,
   "metadata": {
    "colab": {
     "base_uri": "https://localhost:8080/"
    },
    "id": "UOHxdjmAWKZc",
    "outputId": "67d575b7-d649-40ab-8edd-2d0c7950a6a2"
   },
   "outputs": [],
   "source": [
    "from tsfresh import extract_features\n",
    "from tsfresh import select_features\n",
    "from tsfresh.utilities.dataframe_functions import impute\n",
    "\n",
    "extracted_features = impute(extract_features(df_ts, column_id=\"id\", column_sort=\"time\"))\n",
    "features_filtered = select_features(extracted_features, y)"
   ]
  },
  {
   "cell_type": "code",
   "execution_count": null,
   "metadata": {
    "colab": {
     "base_uri": "https://localhost:8080/"
    },
    "id": "7D0JxrCpQL6x",
    "outputId": "b75b4054-afab-4f55-8c61-9a6c7a7f0d8d"
   },
   "outputs": [],
   "source": [
    "from tsfresh.transformers import RelevantFeatureAugmenter\n",
    "import pandas as pd\n",
    "\n",
    "X = pd.DataFrame(index=y.index)\n",
    "TRAINING_SIZE = (len(X) // 10) * 8\n",
    "augmenter = RelevantFeatureAugmenter(column_id='id', column_sort='time')\n",
    "augmenter.set_timeseries_container(df_ts[:TRAINING_SIZE])\n",
    "augmenter.fit(X[:TRAINING_SIZE], y[:TRAINING_SIZE])\n",
    "X_transformed = augmenter.transform(X)"
   ]
  },
  {
   "cell_type": "code",
   "execution_count": null,
   "metadata": {
    "colab": {
     "base_uri": "https://localhost:8080/"
    },
    "id": "jzaRzQc63Iiv",
    "outputId": "384b8608-39d3-4b52-8e23-4baefd4c05cc"
   },
   "outputs": [],
   "source": [
    "from sklearn.model_selection import TimeSeriesSplit, GridSearchCV\n",
    "from tslearn.neighbors import KNeighborsTimeSeriesClassifier\n",
    "\n",
    "knn = KNeighborsTimeSeriesClassifier()\n",
    "param_search = {\n",
    "    'metric' : ['dtw'],  # ctw', 'dtw', \"softdtw\"], # TSLEARN_VALID_METRICS}\n",
    "    'n_neighbors': [1, 2, 3]\n",
    "}\n",
    "#  'param_grid': {'metric': ['ctw', 'dtw', 'gak', 'sax', 'softdtw', 'lcss']},\n",
    "tscv = TimeSeriesSplit(n_splits=2)\n",
    "\n",
    "gsearch = GridSearchCV(\n",
    "    estimator=knn,\n",
    "    cv=tscv,\n",
    "    param_grid=param_search\n",
    ")\n",
    "gsearch.fit(\n",
    "    features_filtered,\n",
    "    y\n",
    ")"
   ]
  },
  {
   "cell_type": "code",
   "execution_count": null,
   "metadata": {
    "id": "j7XePgIYK1WQ"
   },
   "outputs": [],
   "source": [
    "# Adapted from comments on this discussion thread on stackoverflow: https://stackoverflow.com/questions/37161563/how-to-graph-grid-scores-from-gridsearchcv\n",
    "import seaborn as sns\n",
    "import pandas as pd\n",
    "\n",
    "def plot_cv_results(cv_results, param_x, param_z, metric='mean_test_score'):\n",
    "    \"\"\"\n",
    "    cv_results - cv_results_ attribute of a GridSearchCV instance (or similar)\n",
    "    param_x - name of grid search parameter to plot on x axis\n",
    "    param_z - name of grid search parameter to plot by line color\n",
    "    \"\"\"\n",
    "    cv_results = pd.DataFrame(cv_results)\n",
    "    col_x = 'param_' + param_x\n",
    "    col_z = 'param_' + param_z\n",
    "    fig, ax = plt.subplots(1, 1, figsize=(11, 8))\n",
    "    sns.pointplot(x=col_x, y=metric, hue=col_z, data=cv_results, errorbar=('ci', 99), n_boot=64, ax=ax)\n",
    "    ax.set_title(\"CV Grid Search Results\")\n",
    "    ax.set_xlabel(param_x)\n",
    "    ax.set_ylabel(metric)\n",
    "    ax.legend(title=param_z)\n",
    "    return fig\n"
   ]
  },
  {
   "cell_type": "code",
   "execution_count": null,
   "metadata": {
    "colab": {
     "base_uri": "https://localhost:8080/",
     "height": 564
    },
    "id": "-mHYRnizXwsz",
    "outputId": "41bb85fe-a2e4-4f51-911d-54630be0645a"
   },
   "outputs": [],
   "source": [
    "fig = plot_cv_results(gsearch.cv_results_, 'metric', 'n_neighbors')"
   ]
  },
  {
   "cell_type": "code",
   "execution_count": null,
   "metadata": {},
   "outputs": [],
   "source": []
  },
  {
   "cell_type": "code",
   "execution_count": null,
   "metadata": {},
   "outputs": [],
   "source": []
  }
 ],
 "metadata": {
  "colab": {
   "collapsed_sections": [],
   "name": "KNN with dynamic DTW",
   "provenance": []
  },
  "kernelspec": {
   "display_name": "Python 3 (ipykernel)",
   "language": "python",
   "name": "python3"
  },
  "language_info": {
   "codemirror_mode": {
    "name": "ipython",
    "version": 3
   },
   "file_extension": ".py",
   "mimetype": "text/x-python",
   "name": "python",
   "nbconvert_exporter": "python",
   "pygments_lexer": "ipython3",
   "version": "3.8.6"
  }
 },
 "nbformat": 4,
 "nbformat_minor": 4
}
