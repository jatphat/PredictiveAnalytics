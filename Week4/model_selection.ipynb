{
 "cells": [
  {
   "cell_type": "markdown",
   "metadata": {},
   "source": [
    "# Model Selection\n",
    "\n",
    "Source: https://github.com/gxercavins/time-series/tree/master\n",
    "\n",
    "The next step is to select a model to fit the data (refer now to the model_selection.ipynb file). For this example I have chosen to use SARIMA, which stands for 'Seasonal AutoRegressive Integrated Moving Averages'. SARIMA is a well-known statistical method for time series regression. Its Python implementation is found in the statsmodels package.\n",
    "\n",
    "ARIMA models are characterized by three parameters: (p, d, q). These capture the auto-regressive, integrated and moving average components of the model, respectively.\n",
    "\n",
    "p incorporates the effect of past values into the model. Intuitively, it is likely to be warm tomorrow if it has been warm the past p days. d incorporates the amount of differencing. Intuitively, it is likely to be same temperature tomorrow if the difference in temperature in the last d days has been very small. q sets the error of our model as a linear combination of the error values observed at the previous q time points, thus accounting for the moving average part.\n",
    "\n",
    "Seasonal ARIMA extends the ARIMA model with a seasonal or periodic component. It adds three parameters (P, Q, D), which are analogous to the previous ones but refer to the seasonal terms. In this case, weekly periodicity was selected (s = 24*7 = 168). Fine-tuning all these parameters can be a difficult task. For that reason, grid search or hyperparameter tuning techniques are usually applied. An implementation is provided in the script, however it is time and resource consuming. If the s parameter is relaxed to 24 (daily periodicity) the execution is much faster and can be done in practical time with a commodity computer. However, results fail to predict differences between workdays and weekend days. \n",
    "\n",
    "The metric used to benchmark parameter performance is AIC (Akaike Information Criterion), a common figure of merit for ARIMA models. AIC rewards how well the model fits to the input data but penalizes complexity. The following were the best results obtained:\n",
    "\n",
    "\n",
    "((p, d, q), (P, D, Q, S), AIC)\n",
    "------------------------------\n",
    "\n",
    "((1, 1, 1), (1, 1, 0, 168), 3818.95)\n",
    "\n",
    "((1, 0, 0), (1, 1, 0, 168), 3835.74)\n",
    "\n",
    "((1, 0, 1), (1, 1, 0, 168), 3836.72)\n",
    "\n",
    "((0, 0, 1), (1, 1, 0, 168), 3854.2)\n",
    "\n",
    "((0, 1, 1), (1, 1, 0, 168), 3877.28)\n",
    "\n",
    "\n",
    "The best one is selected for use in the final forecast.ipynb file, used to predict the up-coming week results. Week 5 predictions are written to a results.xlsx file and shown below:"
   ]
  },
  {
   "cell_type": "code",
   "execution_count": 1,
   "metadata": {},
   "outputs": [],
   "source": [
    "import warnings\n",
    "\n",
    "warnings.filterwarnings(\"ignore\") # specify to ignore warning messages\n",
    "\n",
    "import pandas as pd\n",
    "import matplotlib.pyplot as plt\n",
    "import itertools as it\n",
    "import datetime\n",
    "import math\n",
    "\n",
    "import statsmodels.api as sm"
   ]
  },
  {
   "cell_type": "code",
   "execution_count": 2,
   "metadata": {},
   "outputs": [],
   "source": [
    "xl = pd.ExcelFile('input_data.xlsx')\n",
    "\n",
    "data = {sheet_name: xl.parse(sheet_name) for sheet_name in xl.sheet_names}\n",
    "\n",
    "days = ['Mon', 'Tue', 'Wed', 'Thu', 'Fri', 'Sat', 'Sun']\n",
    "\n",
    "res = []\n",
    "\n",
    "for name in xl.sheet_names:\n",
    "    mylist = map(list, zip(*data[name].values))\n",
    "    aux = list(it.chain(*mylist))\n",
    "    del aux[:24]\n",
    "    res.append(aux)\n",
    "\n",
    "res = list(it.chain(*res))\n",
    "\n",
    "days = [days for i in range(0, 4)]\n",
    "days_repeated = days * 4"
   ]
  },
  {
   "cell_type": "code",
   "execution_count": 4,
   "metadata": {},
   "outputs": [
    {
     "name": "stdout",
     "output_type": "stream",
     "text": [
      "[(0, 0, 0), (0, 0, 1), (0, 1, 0), (0, 1, 1), (1, 0, 0), (1, 0, 1), (1, 1, 0), (1, 1, 1)]\n",
      "Examples of parameter combinations for Seasonal ARIMA...\n",
      "SARIMAX: (0, 0, 1) x (0, 0, 1, 168)\n",
      "SARIMAX: (0, 0, 1) x (0, 1, 0, 168)\n",
      "SARIMAX: (0, 1, 0) x (0, 1, 1, 168)\n",
      "SARIMAX: (0, 1, 0) x (1, 0, 0, 168)\n"
     ]
    }
   ],
   "source": [
    "# Tune Seasonal ARIMA model\n",
    "# Define the p, d and q parameters to take any value between 0 and 2\n",
    "p = d = q = range(0,2)\n",
    "\n",
    "# Generate all different combinations of p, d and q triplets\n",
    "pdq = list(it.product(p, d, q))\n",
    "print(pdq)\n",
    "\n",
    "# Generate all different combinations of seasonal p, d and q triplets\n",
    "# Seasonality is one week (24*7 = 168 hours)\n",
    "seasonal_pdq = [(x[0], x[1], x[2], 168) for x in list(it.product(p, d, q))]\n",
    "\n",
    "print('Examples of parameter combinations for Seasonal ARIMA...')\n",
    "print('SARIMAX: {} x {}'.format(pdq[1], seasonal_pdq[1]))\n",
    "print('SARIMAX: {} x {}'.format(pdq[1], seasonal_pdq[2]))\n",
    "print('SARIMAX: {} x {}'.format(pdq[2], seasonal_pdq[3]))\n",
    "print('SARIMAX: {} x {}'.format(pdq[2], seasonal_pdq[4]))"
   ]
  },
  {
   "cell_type": "code",
   "execution_count": 4,
   "metadata": {},
   "outputs": [
    {
     "name": "stdout",
     "output_type": "stream",
     "text": [
      "RUNNING THE L-BFGS-B CODE\n",
      "\n",
      "           * * *\n",
      "\n",
      "Machine precision = 2.220D-16\n",
      " N =            1     M =           10\n",
      "\n",
      "At X0         0 variables are exactly at the bounds\n",
      "\n",
      "At iterate    0    f=  7.51148D+00    |proj g|=  3.25731D-06\n",
      "\n",
      "           * * *\n",
      "\n",
      "Tit   = total number of iterations\n",
      "Tnf   = total number of function evaluations\n",
      "Tnint = total number of segments explored during Cauchy searches\n",
      "Skip  = number of BFGS updates skipped\n",
      "Nact  = number of active bounds at final generalized Cauchy point\n",
      "Projg = norm of the final projected gradient\n",
      "F     = final function value\n",
      "\n",
      "           * * *\n",
      "\n",
      "   N    Tit     Tnf  Tnint  Skip  Nact     Projg        F\n",
      "    1      0      1      0     0     0   3.257D-06   7.511D+00\n",
      "  F =   7.5114827111438993     \n",
      "\n",
      "CONVERGENCE: NORM_OF_PROJECTED_GRADIENT_<=_PGTOL            \n",
      "ARIMA(0, 0, 0)x(0, 0, 0, 168)168 - AIC:10097.43\n"
     ]
    },
    {
     "name": "stderr",
     "output_type": "stream",
     "text": [
      " This problem is unconstrained.\n",
      " This problem is unconstrained.\n"
     ]
    },
    {
     "name": "stdout",
     "output_type": "stream",
     "text": [
      "RUNNING THE L-BFGS-B CODE\n",
      "\n",
      "           * * *\n",
      "\n",
      "Machine precision = 2.220D-16\n",
      " N =            2     M =           10\n",
      "\n",
      "At X0         0 variables are exactly at the bounds\n",
      "\n",
      "At iterate    0    f=  2.81467D+01    |proj g|=  1.47213D-03\n",
      "  ys=-5.542E+01  -gs= 6.983E-01 BFGS update SKIPPED\n"
     ]
    }
   ],
   "source": [
    "result_list = []\n",
    "\n",
    "for param in pdq:\n",
    "    for param_seasonal in seasonal_pdq:\n",
    "        try:\n",
    "            mod = sm.tsa.statespace.SARIMAX(res,\n",
    "                                            order=param,\n",
    "                                            seasonal_order=param_seasonal,\n",
    "                                            enforce_stationarity=False,\n",
    "                                            enforce_invertibility=False)\n",
    "            results = mod.fit()\n",
    "\n",
    "            print('ARIMA{}x{}168 - AIC:{}'.format(param, param_seasonal, round(results.aic,2)))\n",
    "            result_list.extend([param, param_seasonal, round(results.aic,2)])\n",
    "        except:\n",
    "            print('error')\n",
    "            continue\n",
    "            \n",
    "print('Done!')"
   ]
  },
  {
   "cell_type": "code",
   "execution_count": 30,
   "metadata": {},
   "outputs": [
    {
     "name": "stdout",
     "output_type": "stream",
     "text": [
      "Result summary:\n",
      "\n",
      "((p, d, q), (P, D, Q, S), AIC)\n",
      "------------------------------\n",
      "((1, 1, 1), (1, 1, 0, 168), 3818.95)\n",
      "((1, 0, 0), (1, 1, 0, 168), 3835.74)\n",
      "((1, 0, 1), (1, 1, 0, 168), 3836.72)\n",
      "((0, 0, 1), (1, 1, 0, 168), 3854.2)\n",
      "((0, 1, 1), (1, 1, 0, 168), 3877.28)\n",
      "((1, 1, 0), (1, 1, 0, 168), 3912.87)\n",
      "((0, 0, 0), (1, 1, 0, 168), 3915.73)\n",
      "((0, 1, 0), (1, 1, 0, 168), 3939.41)\n",
      "((1, 1, 1), (0, 1, 0, 168), 5934.29)\n",
      "((1, 0, 1), (0, 1, 0, 168), 5946.06)\n",
      "((1, 1, 1), (1, 0, 0, 168), 5948.39)\n",
      "((0, 0, 1), (0, 1, 0, 168), 5953.08)\n",
      "((1, 0, 0), (0, 1, 0, 168), 5956.36)\n",
      "((1, 0, 0), (1, 0, 0, 168), 5956.75)\n",
      "((1, 0, 1), (1, 0, 0, 168), 5957.24)\n",
      "((0, 0, 1), (1, 0, 0, 168), 5973.03)\n",
      "((0, 1, 1), (0, 1, 0, 168), 6007.22)\n",
      "((0, 1, 1), (1, 0, 0, 168), 6028.44)\n",
      "((0, 0, 0), (1, 0, 0, 168), 6050.84)\n",
      "((0, 0, 0), (0, 1, 0, 168), 6053.09)\n",
      "((1, 1, 0), (0, 1, 0, 168), 6084.03)\n",
      "((1, 1, 0), (1, 0, 0, 168), 6085.09)\n",
      "((0, 1, 0), (0, 1, 0, 168), 6114.69)\n",
      "((0, 1, 0), (1, 0, 0, 168), 6121.6)\n",
      "((1, 0, 1), (0, 0, 0, 168), 8866.63)\n",
      "((0, 1, 1), (0, 0, 0, 168), 8930.38)\n",
      "((1, 1, 1), (0, 0, 0, 168), 8932.28)\n",
      "((1, 1, 0), (0, 0, 0, 168), 9064.16)\n",
      "((1, 0, 0), (0, 0, 0, 168), 9141.77)\n",
      "((0, 1, 0), (0, 0, 0, 168), 9171.21)\n",
      "((0, 0, 1), (0, 0, 0, 168), 9372.44)\n",
      "((0, 0, 0), (0, 0, 0, 168), 10097.43)\n",
      "((1, 1, 0), (0, 0, 1, 168), 13664.71)\n",
      "((0, 1, 0), (1, 0, 1, 168), 14257.72)\n",
      "((0, 0, 0), (1, 0, 1, 168), 14320.0)\n",
      "((1, 0, 0), (1, 0, 1, 168), 14721.95)\n",
      "((1, 0, 0), (0, 0, 1, 168), 16589.28)\n",
      "((0, 1, 0), (0, 0, 1, 168), 19125.59)\n",
      "((0, 0, 0), (0, 0, 1, 168), 19561.85)\n",
      "((0, 0, 1), (0, 0, 1, 168), nan)\n",
      "((0, 0, 1), (1, 0, 1, 168), nan)\n",
      "((1, 1, 0), (1, 0, 1, 168), 16546.93)\n",
      "((1, 1, 1), (1, 0, 1, 168), 35705.35)\n",
      "((1, 0, 1), (1, 0, 1, 168), 36599.26)\n",
      "((1, 0, 1), (0, 0, 1, 168), 37153.04)\n",
      "((1, 1, 1), (0, 0, 1, 168), 37188.75)\n",
      "((0, 1, 1), (1, 0, 1, 168), 38079.81)\n",
      "((0, 1, 1), (0, 0, 1, 168), 47060.1)\n"
     ]
    }
   ],
   "source": [
    "print_result = zip(*[iter(result_list)]*3) \n",
    "print_result.sort(key=lambda x: x[2])\n",
    "\n",
    "print('Result summary:\\n')\n",
    "print('((p, d, q), (P, D, Q, S), AIC)')\n",
    "print('------------------------------')\n",
    "for item in print_result:\n",
    "    print(item)"
   ]
  },
  {
   "cell_type": "code",
   "execution_count": null,
   "metadata": {},
   "outputs": [],
   "source": []
  }
 ],
 "metadata": {
  "kernelspec": {
   "display_name": "Python 3 (ipykernel)",
   "language": "python",
   "name": "python3"
  },
  "language_info": {
   "codemirror_mode": {
    "name": "ipython",
    "version": 3
   },
   "file_extension": ".py",
   "mimetype": "text/x-python",
   "name": "python",
   "nbconvert_exporter": "python",
   "pygments_lexer": "ipython3",
   "version": "3.8.6"
  }
 },
 "nbformat": 4,
 "nbformat_minor": 4
}
